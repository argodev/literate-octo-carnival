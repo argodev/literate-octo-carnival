{
 "cells": [
  {
   "cell_type": "code",
   "execution_count": 41,
   "metadata": {},
   "outputs": [],
   "source": [
    "import os\n",
    "import random\n",
    "import math\n",
    "import numpy as np\n",
    "import json\n",
    "import time\n",
    "import pprint\n",
    "import pandas as pd\n",
    "from datetime import datetime\n",
    "import matplotlib.pyplot as plt\n",
    "import seaborn as sns\n",
    "plt.style.use('seaborn-whitegrid')\n",
    "%matplotlib inline"
   ]
  },
  {
   "cell_type": "code",
   "execution_count": 87,
   "metadata": {},
   "outputs": [],
   "source": [
    "# CONSTANTS\n",
    "\n",
    "# The minimum number of exemplars per category\n",
    "MIN_PER_CATEGORY = 1\n",
    "\n",
    "# The maximum number of exemplars per category\n",
    "MAX_PER_CATEGORY = 10\n",
    "\n",
    "# The thresholds we are going to test\n",
    "THRESHOLDS = [math.inf, 3.2, 3.1, 3.0, 2.9, 2.8, 2.7, 2.6]\n",
    "\n",
    "# force some of the allocated values to match the theory paper\n",
    "MATCH_PAPER = False\n",
    "\n",
    "# List of attack categories and exemplar count from theory paper\n",
    "PAPER_CATEGORY_LIST = {'Loss_of_View': 8, 'Loss_of_Control': 4, 'Denial_of_View': 1,\n",
    "                       'Denial_of_Control': 5, 'Denial_of_Safety': 3,\n",
    "                       'Manipulation_of_View': 3, 'Manipulation_of_Control': 5,\n",
    "                       'Manipulation_of_Sensors': 3, 'Manipulation_of_Safety': 10}\n",
    "\n",
    "BASE_CASE_MAX_FAILURE = 0.05\n",
    "BASE_CASE_MAX_TIME_SLEW = 0\n",
    "MAX_FAILURE = 0.1\n",
    "MAX_TIME_SLEW = 1\n",
    "TIME_RATIO_WEIGHT = 0.2\n",
    "INITIAL_IDS_DETECTION_RATIO = 0.3\n",
    "IDS_DETECTION_RATIO = 0.2"
   ]
  },
  {
   "cell_type": "code",
   "execution_count": 88,
   "metadata": {},
   "outputs": [],
   "source": [
    "def create_exemplars(count):\n",
    "    exemplars = []\n",
    "    for x in range(count):\n",
    "        exemplars.append({'r':1, 'd':1, 't':1})\n",
    "    return exemplars\n",
    "\n",
    "\n",
    "def calculate_r(prior_rate, max_failure):\n",
    "    new_rate = (random.random() * max_failure)+(prior_rate-max_failure)\n",
    "    return max(new_rate, 0)\n",
    "\n",
    "\n",
    "def calculate_t(prior_basis, max_time_slew):\n",
    "    new_rate = (random.random() * max_time_slew)+(prior_basis)\n",
    "    return max(new_rate, 0)\n",
    "\n",
    "def calculate_d(prior, detection_ratio):\n",
    "    yes = detection_ratio\n",
    "    no = 1-yes\n",
    "    if prior > 0:\n",
    "        current = np.random.choice(2, 1, p=[yes, no])[0]\n",
    "        return current\n",
    "    else:\n",
    "        return prior\n",
    "\n",
    "\n",
    "def calculate_s_t(max_failure, max_time_slew, time_weighting, detection_ratio):\n",
    "    s_t = {'categories': {}, 'total': 0, 'total_time': 0}\n",
    "    for c in categories:\n",
    "        s_c = 0\n",
    "        s_c_time = 0\n",
    "        for e in categories[c]:\n",
    "            e['r'] = calculate_r(e['r'], max_failure)\n",
    "            e['t'] = calculate_t(e['t'], max_time_slew)\n",
    "            e['d'] = calculate_d(e['d'], detection_ratio)\n",
    "            s_c += e['r'] * e['d']\n",
    "            s_c_time += (e['r'] * e['d']) - (e['d']*time_weighting*(e['t'] - 1))\n",
    "        s_t['categories'][c] = s_c\n",
    "        s_t['categories'][c + '_time'] = s_c_time\n",
    "        s_t['total'] += s_c\n",
    "        s_t['total_time'] += s_c_time\n",
    "    return s_t"
   ]
  },
  {
   "cell_type": "code",
   "execution_count": 89,
   "metadata": {},
   "outputs": [
    {
     "name": "stdout",
     "output_type": "stream",
     "text": [
      "20200617150727\n"
     ]
    }
   ],
   "source": [
    "timestamp = time.strftime(\"%Y%m%d%H%M%S\")\n",
    "print(timestamp)"
   ]
  },
  {
   "cell_type": "code",
   "execution_count": 90,
   "metadata": {},
   "outputs": [],
   "source": [
    "# log/store the settings\n",
    "config = {\n",
    "    'MIN_PER_CATEGORY': MIN_PER_CATEGORY,\n",
    "    'MAX_PER_CATEGORY': MAX_PER_CATEGORY,\n",
    "    'THRESHOLDS': THRESHOLDS,\n",
    "    'MATCH_PAPER': MATCH_PAPER,\n",
    "    'PAPER_CATEGORY_LIST': PAPER_CATEGORY_LIST,\n",
    "    'BASE_CASE_MAX_FAILURE': BASE_CASE_MAX_FAILURE,\n",
    "    'BASE_CASE_MAX_TIME_SLEW': BASE_CASE_MAX_TIME_SLEW,\n",
    "    'MAX_FAILURE': MAX_FAILURE,\n",
    "    'MAX_TIME_SLEW': MAX_TIME_SLEW,\n",
    "    'TIME_RATIO_WEIGHT': TIME_RATIO_WEIGHT,\n",
    "    'INITIAL_IDS_DETECTION_RATIO': INITIAL_IDS_DETECTION_RATIO,\n",
    "    'IDS_DETECTION_RATIO': IDS_DETECTION_RATIO\n",
    "}\n",
    "with open('simulationconfig_{}.json'.format(timestamp), 'w') as fp:\n",
    "    json.dump(config, fp)"
   ]
  },
  {
   "cell_type": "code",
   "execution_count": 91,
   "metadata": {},
   "outputs": [],
   "source": [
    "# create the results structure\n",
    "results = []\n",
    "\n",
    "# create the category data structure\n",
    "categories = {}\n",
    "for c in PAPER_CATEGORY_LIST:\n",
    "    categories[c] = []\n",
    "    \n",
    "if MATCH_PAPER:\n",
    "    for c in PAPER_CATEGORY_LIST:\n",
    "        categories[c] = create_exemplars(PAPER_CATEGORY_LIST[c])\n",
    "else:\n",
    "    for c in PAPER_CATEGORY_LIST:\n",
    "        categories[c] = create_exemplars(random.randint(MIN_PER_CATEGORY, MAX_PER_CATEGORY))"
   ]
  },
  {
   "cell_type": "code",
   "execution_count": 92,
   "metadata": {},
   "outputs": [
    {
     "name": "stdout",
     "output_type": "stream",
     "text": [
      "Total Exemplars: 46\n"
     ]
    }
   ],
   "source": [
    "exemplar_count = 0\n",
    "for v in categories.values():\n",
    "    exemplar_count = exemplar_count + len(v)\n",
    "\n",
    "print('Total Exemplars: %d' % exemplar_count)"
   ]
  },
  {
   "cell_type": "code",
   "execution_count": 93,
   "metadata": {},
   "outputs": [],
   "source": [
    "# Calculate the base-case scores and store the results\n",
    "result = calculate_s_t(BASE_CASE_MAX_FAILURE, BASE_CASE_MAX_TIME_SLEW, TIME_RATIO_WEIGHT, 0)\n",
    "results.append(result)"
   ]
  },
  {
   "cell_type": "code",
   "execution_count": 94,
   "metadata": {},
   "outputs": [],
   "source": [
    "# cacluate the scores for initial deployment of IDS (larger detection ratio)\n",
    "result = calculate_s_t(MAX_FAILURE, MAX_TIME_SLEW, TIME_RATIO_WEIGHT, INITIAL_IDS_DETECTION_RATIO)\n",
    "results.append(result)"
   ]
  },
  {
   "cell_type": "code",
   "execution_count": 95,
   "metadata": {},
   "outputs": [],
   "source": [
    "# Calculate the remaining scores and store the results\n",
    "for t in THRESHOLDS[2:]:\n",
    "    result = calculate_s_t(MAX_FAILURE, MAX_TIME_SLEW, TIME_RATIO_WEIGHT, IDS_DETECTION_RATIO)\n",
    "    results.append(result)"
   ]
  },
  {
   "cell_type": "code",
   "execution_count": 96,
   "metadata": {},
   "outputs": [],
   "source": [
    "# pprint.pprint(categories)\n",
    "with open('simulationcategories_{}.json'.format(timestamp), 'w') as fp:\n",
    "    json.dump(results, fp)"
   ]
  },
  {
   "cell_type": "code",
   "execution_count": 97,
   "metadata": {},
   "outputs": [],
   "source": [
    "# pprint.pprint(results)\n",
    "with open('simulationresults_{}.json'.format(timestamp), 'w') as fp:\n",
    "    json.dump(results, fp)"
   ]
  },
  {
   "cell_type": "code",
   "execution_count": 98,
   "metadata": {},
   "outputs": [
    {
     "name": "stdout",
     "output_type": "stream",
     "text": [
      "44.79022560725228\n",
      "44.79022560725228\n",
      "26.57216141941494\n",
      "23.245595135979464\n"
     ]
    }
   ],
   "source": [
    "scores = []\n",
    "tscores = []\n",
    "for r in results:\n",
    "    scores.append(r['total'])\n",
    "    tscores.append(r['total_time'])\n",
    "    \n",
    "print(max(scores))\n",
    "print(max(tscores))\n",
    "\n",
    "print(scores[1])\n",
    "print(tscores[1])"
   ]
  },
  {
   "cell_type": "code",
   "execution_count": 99,
   "metadata": {},
   "outputs": [
    {
     "data": {
      "image/png": "[encoded data removed]",
      "text/plain": [
       "<Figure size 432x288 with 1 Axes>"
      ]
     },
     "metadata": {
      "needs_background": "light"
     },
     "output_type": "display_data"
    }
   ],
   "source": [
    "# build the xticks\n",
    "ticks = []\n",
    "ticks.append('$\\infty$')\n",
    "for score in THRESHOLDS[1:]:\n",
    "    ticks.append(str(score))\n",
    "\n",
    "ax = sns.lineplot(x=ticks, y=scores, sort=False, color='#1f77b4')\n",
    "plt.xlabel('Alert Threshold')\n",
    "plt.ylabel('Threat Score ($S_t$)')\n",
    "ax.set(ylim=(0, exemplar_count), xlim=(0, 7))\n",
    "\n",
    "delta_text = '$S_\\delta$ = {:0.2f}'.format(scores[1]-scores[3])\n",
    "\n",
    "ax.annotate(delta_text, xy=(4, 5.003566),  xycoords='data',\n",
    "            xytext=(0.48, 0.39), textcoords='axes fraction',\n",
    "            horizontalalignment='left', verticalalignment='top',\n",
    "            )\n",
    "\n",
    "ax.annotate('$k=3.2$', xy=(4, 5.003566),  xycoords='data',\n",
    "            xytext=(0.16, 0.92), textcoords='axes fraction',\n",
    "            horizontalalignment='left', verticalalignment='top',\n",
    "            )\n",
    "\n",
    "ax.annotate('$k=3.0$', xy=(4, 5.003566),  xycoords='data',\n",
    "            xytext=(0.45, 0.92), textcoords='axes fraction',\n",
    "            horizontalalignment='left', verticalalignment='top',\n",
    "            )\n",
    "\n",
    "\n",
    "ax.grid(False)\n",
    "\n",
    "# create our second plot\n",
    "sns.lineplot(x=ticks, y=tscores, sort=False, color='#ff7f0e')\n",
    "\n",
    "ydiv = exemplar_count \n",
    "plt.axvline(1.0, 0.03, 0.97, linestyle='--', color='grey', label='FP Threshold')\n",
    "plt.axvline(3.0, 0.03, 0.97, linestyle='--', color='grey', label='FP Threshold')\n",
    "plt.axvline(3.1, scores[3]/ydiv, scores[1]/ydiv, linestyle='-', color='black')\n",
    "plt.axhline(scores[1], 0.42, 0.47, color='black')\n",
    "plt.axhline(scores[3], 0.42, 0.47, color='black')\n",
    "\n",
    "# set the legend\n",
    "ax.legend(['Threat Score', 'Operator Knowlege'], loc=(0.59,0.8))\n",
    "\n",
    "plt.tight_layout()\n",
    "plt.savefig('threatsimulation_{}.png'.format(timestamp))\n",
    "plt.savefig('threatsimulation_{}.pdf'.format(timestamp))"
   ]
  },
  {
   "cell_type": "code",
   "execution_count": 100,
   "metadata": {},
   "outputs": [],
   "source": [
    "cat_results = []\n",
    "max_y = 0\n",
    "for c in PAPER_CATEGORY_LIST:\n",
    "    x = {'name': c, 'totals':[]}\n",
    "    \n",
    "    for r in results:\n",
    "        x['totals'].append(r['categories'][c])\n",
    "        if r['categories'][c] > max_y:\n",
    "            max_y = r['categories'][c]\n",
    "    \n",
    "    cat_results.append(x)\n",
    "    \n",
    "max_y = math.ceil(max_y)"
   ]
  },
  {
   "cell_type": "code",
   "execution_count": 101,
   "metadata": {},
   "outputs": [
    {
     "data": {
      "image/png": "[encoded data removed]",
      "text/plain": [
       "<Figure size 432x288 with 1 Axes>"
      ]
     },
     "metadata": {
      "needs_background": "light"
     },
     "output_type": "display_data"
    }
   ],
   "source": [
    "# build the xticks\n",
    "ticks = []\n",
    "ticks.append('$\\infty$')\n",
    "for score in THRESHOLDS[1:]:\n",
    "    ticks.append(str(score))\n",
    "\n",
    "labels = []\n",
    "for cr in cat_results:\n",
    "    labels.append(cr['name'].replace('_', ' '))\n",
    "    sns.lineplot(x=ticks, y=cr['totals'], sort=False)\n",
    "\n",
    "plt.xlabel('Alert Threshold')\n",
    "plt.ylabel('Threat Score ($S_t$)')\n",
    "\n",
    "ax = plt.gca()\n",
    "ax.grid(False)\n",
    "ax.set(ylim=(0, max_y), xlim=(0, 7))\n",
    "\n",
    "\n",
    "# set the legend\n",
    "ax.legend(labels)\n",
    "\n",
    "plt.tight_layout()\n",
    "plt.savefig('threatsimulationcategories_{}.png'.format(timestamp))\n",
    "plt.savefig('threatsimulationcategories_{}.pdf'.format(timestamp))"
   ]
  },
  {
   "cell_type": "code",
   "execution_count": null,
   "metadata": {},
   "outputs": [],
   "source": []
  }
 ],
 "metadata": {
  "kernelspec": {
   "display_name": "Python 3",
   "language": "python",
   "name": "python3"
  },
  "language_info": {
   "codemirror_mode": {
    "name": "ipython",
    "version": 3
   },
   "file_extension": ".py",
   "mimetype": "text/x-python",
   "name": "python",
   "nbconvert_exporter": "python",
   "pygments_lexer": "ipython3",
   "version": "3.6.9"
  }
 },
 "nbformat": 4,
 "nbformat_minor": 4
}
