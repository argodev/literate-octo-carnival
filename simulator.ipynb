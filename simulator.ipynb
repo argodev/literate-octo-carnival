{
 "cells": [
  {
   "cell_type": "code",
   "execution_count": 16,
   "metadata": {},
   "outputs": [],
   "source": [
    "import os\n",
    "import random\n",
    "import math\n",
    "import numpy as np\n",
    "import json\n",
    "import pandas as pd\n",
    "from datetime import datetime\n",
    "import matplotlib.pyplot as plt\n",
    "import seaborn as sns\n",
    "plt.style.use('seaborn-white')\n",
    "#matplotlib inline"
   ]
  },
  {
   "cell_type": "code",
   "execution_count": 37,
   "metadata": {},
   "outputs": [],
   "source": [
    "# CONSTANTS\n",
    "\n",
    "# The minimum number of exemplars per category\n",
    "MIN_PER_CATEGORY = 1\n",
    "\n",
    "# The maximum number of exemplars per category\n",
    "MAX_PER_CATEGORY = 10\n",
    "\n",
    "# The thresholds we are going to test\n",
    "THRESHOLDS = [math.inf, 3.2, 3.1, 3.0, 2.9, 2.8, 2.7]\n",
    "\n",
    "# force some of the allocated values to match the theory paper\n",
    "MATCH_PAPER = True\n",
    "\n",
    "# List of attack categories and exemplar count from theory paper\n",
    "PAPER_CATEGORY_LIST = {'Loss_of_View': 8, 'Loss_of_Control': 4, 'Denial_of_View': 1,\n",
    "                       'Denial_of_Control': 5, 'Denial_of_Safety': 3,\n",
    "                       'Manipulation_of_View': 3, 'Manipulation_of_Control': 5,\n",
    "                       'Manipulation_of_Sensors': 3, 'Manipulation_of_Safety': 10}"
   ]
  },
  {
   "cell_type": "code",
   "execution_count": 51,
   "metadata": {},
   "outputs": [],
   "source": [
    "def create_exemplars(count):\n",
    "    exemplars = []\n",
    "    for x in range(count):\n",
    "        exemplars.append({'r':1, 'd':1, 't':1})\n",
    "    return exemplars"
   ]
  },
  {
   "cell_type": "code",
   "execution_count": 72,
   "metadata": {},
   "outputs": [],
   "source": [
    "# create the categories\n",
    "categories = {}\n",
    "for c in PAPER_CATEGORY_LIST:\n",
    "    categories[c] = []\n",
    "    \n",
    "if MATCH_PAPER:\n",
    "    for c in PAPER_CATEGORY_LIST:\n",
    "        categories[c] = create_exemplars(PAPER_CATEGORY_LIST[c])\n",
    "else:\n",
    "    for c in PAPER_CATEGORY_LIST:\n",
    "        categories[c] = create_exemplars(random.randint(MIN_PER_CATEGORY, MAX_PER_CATEGORY))\n",
    " \n",
    "# the exemplars and count\n",
    "# categories"
   ]
  },
  {
   "cell_type": "code",
   "execution_count": 69,
   "metadata": {},
   "outputs": [
    {
     "name": "stdout",
     "output_type": "stream",
     "text": [
      "Total Exemplars: 42\n"
     ]
    }
   ],
   "source": [
    "exemplar_count = 0\n",
    "for v in categories.values():\n",
    "    exemplar_count = exemplar_count + len(v)\n",
    "\n",
    "print('Total Exemplars: %d' % exemplar_count)"
   ]
  },
  {
   "cell_type": "code",
   "execution_count": 70,
   "metadata": {},
   "outputs": [
    {
     "name": "stdout",
     "output_type": "stream",
     "text": [
      "39.97275988135394\n"
     ]
    }
   ],
   "source": [
    "# generate worst-case scenario score\n",
    "worst = 0\n",
    "\n",
    "# loop through each category...\n",
    "for c in categories:\n",
    "    \n",
    "    # loop through each exemplar in that category\n",
    "    for e in range(len(categories[c])):\n",
    "        r = 1 - random.uniform(0.0, 0.1)\n",
    "        worst += r\n",
    "    \n",
    "print(worst)"
   ]
  },
  {
   "cell_type": "code",
   "execution_count": 71,
   "metadata": {},
   "outputs": [
    {
     "data": {
      "text/plain": [
       "{'categories': {'Loss_of_View': 7.52915031140637,\n",
       "  'Loss_of_Control': 3.7990380604290332,\n",
       "  'Denial_of_View': 0.9148168087448545,\n",
       "  'Denial_of_Control': 4.773322058680243,\n",
       "  'Denial_of_Safety': 2.846377289756634,\n",
       "  'Manipulation_of_View': 2.8693733484372004,\n",
       "  'Manipulation_of_Control': 4.679658441539832,\n",
       "  'Manipulation_of_Sensors': 2.8439874567462304,\n",
       "  'Manipulation_of_Safety': 9.533087418919216},\n",
       " 'total': 39.788811194659615}"
      ]
     },
     "execution_count": 71,
     "metadata": {},
     "output_type": "execute_result"
    }
   ],
   "source": [
    "def calculate_s_t(success_rate):\n",
    "    s_t = {'categories': {}, 'total': 0}\n",
    "    for c in categories:\n",
    "        s_c = 0\n",
    "        for e in categories[c]:\n",
    "            e['r'] -= random.uniform(0.0, 0.1)\n",
    "            s_c += e['r'] * e['d']\n",
    "        s_t['categories'][c] = s_c\n",
    "        s_t['total'] += s_c\n",
    "    return s_t\n",
    "          \n",
    "calculate_s_t(2)"
   ]
  },
  {
   "cell_type": "code",
   "execution_count": 59,
   "metadata": {},
   "outputs": [
    {
     "name": "stdout",
     "output_type": "stream",
     "text": [
      "3.2\n",
      "3.1\n",
      "3.0\n",
      "2.9\n",
      "2.8\n",
      "2.7\n"
     ]
    }
   ],
   "source": [
    "simple = []\n",
    "normative = []\n",
    "simple.append(worst)\n",
    "normative.append(worst)\n",
    "\n",
    "for t in THRESHOLDS[1:]:\n",
    "    print(t)"
   ]
  },
  {
   "cell_type": "code",
   "execution_count": null,
   "metadata": {},
   "outputs": [],
   "source": []
  }
 ],
 "metadata": {
  "kernelspec": {
   "display_name": "Python 3",
   "language": "python",
   "name": "python3"
  },
  "language_info": {
   "codemirror_mode": {
    "name": "ipython",
    "version": 3
   },
   "file_extension": ".py",
   "mimetype": "text/x-python",
   "name": "python",
   "nbconvert_exporter": "python",
   "pygments_lexer": "ipython3",
   "version": "3.6.9"
  }
 },
 "nbformat": 4,
 "nbformat_minor": 4
}
